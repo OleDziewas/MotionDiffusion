{
  "nbformat": 4,
  "nbformat_minor": 0,
  "metadata": {
    "colab": {
      "provenance": [],
      "mount_file_id": "10YQslFzL2C9TG8aCRY2Hp0gJ1PUEwykA",
      "authorship_tag": "ABX9TyM2BqsGXRSA6rYE1LkWaj1h",
      "include_colab_link": true
    },
    "kernelspec": {
      "name": "python3",
      "display_name": "Python 3"
    },
    "language_info": {
      "name": "python"
    }
  },
  "cells": [
    {
      "cell_type": "markdown",
      "metadata": {
        "id": "view-in-github",
        "colab_type": "text"
      },
      "source": [
        "<a href=\"https://colab.research.google.com/github/OleDziewas/MotionDiffusion/blob/main/PyMoTests.ipynb\" target=\"_parent\"><img src=\"https://colab.research.google.com/assets/colab-badge.svg\" alt=\"Open In Colab\"/></a>"
      ]
    },
    {
      "cell_type": "code",
      "execution_count": null,
      "metadata": {
        "colab": {
          "base_uri": "https://localhost:8080/"
        },
        "id": "Enx5q65RSGew",
        "outputId": "b99489f1-6beb-4b8d-8273-027492230588"
      },
      "outputs": [
        {
          "output_type": "stream",
          "name": "stdout",
          "text": [
            "Cloning into 'PyMO'...\n",
            "remote: Enumerating objects: 199, done.\u001b[K\n",
            "remote: Counting objects: 100% (49/49), done.\u001b[K\n",
            "remote: Compressing objects: 100% (12/12), done.\u001b[K\n",
            "remote: Total 199 (delta 40), reused 38 (delta 37), pack-reused 150\u001b[K\n",
            "Receiving objects: 100% (199/199), 6.05 MiB | 15.45 MiB/s, done.\n",
            "Resolving deltas: 100% (99/99), done.\n"
          ]
        }
      ],
      "source": [
        "!git clone https://github.com/youngwoo-yoon/PyMO.git"
      ]
    },
    {
      "cell_type": "code",
      "source": [
        "%cd PyMO"
      ],
      "metadata": {
        "colab": {
          "base_uri": "https://localhost:8080/"
        },
        "id": "MoWWT_mVVufQ",
        "outputId": "2f65e653-4643-434e-89c4-7aa7ad691722"
      },
      "execution_count": null,
      "outputs": [
        {
          "output_type": "stream",
          "name": "stdout",
          "text": [
            "/content/PyMO\n"
          ]
        }
      ]
    },
    {
      "cell_type": "code",
      "source": [
        "!mkdir /content/val\n",
        "!unzip /content/drive/MyDrive/GENEADataset/val/bvh.zip -d /content/val\n",
        "#!unzip /content/drive/MyDrive/GENEADataset/val/tsv.zip -d /content/val\n",
        "#!unzip /content/drive/MyDrive/GENEADataset/trn/bvh.zip -d /content/trn\n",
        "#!unzip /content/drive/MyDrive/GENEADataset/trn/tsv.zip -d /content/trn\n",
        "#!unzip /content/drive/MyDrive/GENEADataset/test/tsv.zip -d /content/tsv"
      ],
      "metadata": {
        "colab": {
          "base_uri": "https://localhost:8080/"
        },
        "id": "1I8AhJRGT9E9",
        "outputId": "1034a580-60f4-4d31-eed3-c3b076a108e9"
      },
      "execution_count": 1,
      "outputs": [
        {
          "output_type": "stream",
          "name": "stdout",
          "text": [
            "Archive:  /content/drive/MyDrive/GENEADataset/val.zip\n",
            "   creating: /content/val/\n",
            "  inflating: /content/val/wav.zip    "
          ]
        }
      ]
    },
    {
      "cell_type": "code",
      "source": [
        "!mkdir /content/input"
      ],
      "metadata": {
        "id": "sb-fDXwxfJvM"
      },
      "execution_count": null,
      "outputs": []
    },
    {
      "cell_type": "code",
      "source": [
        "!cp /content/val/bvh/val_2022_v1_000.bvh /content/input"
      ],
      "metadata": {
        "id": "JJuDjYisfPnj"
      },
      "execution_count": null,
      "outputs": []
    },
    {
      "cell_type": "markdown",
      "source": [
        "# BVH2Feature\n"
      ],
      "metadata": {
        "id": "RR3aL9WTtiUh"
      }
    },
    {
      "cell_type": "code",
      "source": [
        "import numpy as np\n",
        "import pandas as pd\n",
        "from sklearn.pipeline import Pipeline\n",
        "\n",
        "import glob\n",
        "import os\n",
        "import sys\n",
        "module_path = os.path.abspath(os.path.join('..'))\n",
        "if module_path not in sys.path:\n",
        "    sys.path.append(module_path)\n",
        "\n",
        "import IPython\n",
        "\n",
        "from pymo.parsers import BVHParser\n",
        "from pymo.data import Joint, MocapData\n",
        "from pymo.preprocessing import *\n",
        "from pymo.viz_tools import *\n",
        "from pymo.writers import *\n",
        "\n",
        "import joblib as jl"
      ],
      "metadata": {
        "id": "KwAOKpZZtlEz"
      },
      "execution_count": null,
      "outputs": []
    },
    {
      "cell_type": "code",
      "source": [
        "def extract_joint_angles(bvh_dir, files, destpath, fps):\n",
        "\n",
        "    if not os.path.exists(destpath):\n",
        "         os.mkdir(destpath)\n",
        "\n",
        "    p = BVHParser()\n",
        "\n",
        "    data_all = list()\n",
        "    for f in files:\n",
        "        ff = os.path.join(bvh_dir, f + '.bvh')\n",
        "        print(ff)\n",
        "        data_all.append(p.parse(ff))\n",
        "\n",
        "    # 24 joints (upper and lower body excluding fingers)\n",
        "    target_joints = ['body_world', 'b_root', 'b_l_upleg', 'b_l_leg', 'b_r_upleg', 'b_r_leg', 'b_spine0', 'b_spine1', 'b_spine2', 'b_spine3', 'b_l_shoulder', 'b_l_arm', 'b_l_arm_twist', 'b_l_forearm', 'b_l_wrist_twist', 'b_l_wrist', 'b_r_shoulder', 'b_r_arm', 'b_r_arm_twist', 'b_r_forearm', 'b_r_wrist_twist', 'b_r_wrist', 'b_neck0', 'b_head']\n",
        "\n",
        "    data_pipe = Pipeline([\n",
        "       ('dwnsampl', DownSampler(tgt_fps=30,  keep_all=False)),\n",
        "       ('root', RootNormalizer()),\n",
        "       ('jtsel', JointSelector(target_joints, include_root=False)),\n",
        "       ('exp', MocapParameterizer('expmap')),\n",
        "       ('np', Numpyfier())\n",
        "    ])\n",
        "\n",
        "\n",
        "    out_data = data_pipe.fit_transform(data_all)\n",
        "    #cnt = 0\n",
        "    #for i in range(len(out_data)):\n",
        "    #  for e in range(len(out_data[i])):\n",
        "    #    for q in range(len(out_data[i][e])):\n",
        "    #      out_data[i][e][q] = cnt\n",
        "    #      cnt+=1\n",
        "\n",
        "    # the datapipe will append the mirrored files to the end\n",
        "    #assert len(out_data) == 2*len(files)\n",
        "\n",
        "    jl.dump(data_pipe, os.path.join(destpath, 'data_pipe.sav'))\n",
        "\n",
        "    fi=0\n",
        "    for f in files:\n",
        "        ff = os.path.join(destpath, f)\n",
        "        print(ff)\n",
        "        np.savez(ff + \".npz\", clips=out_data[fi])\n",
        "        fi=fi+1\n",
        "\n",
        "    return out_data, data_all"
      ],
      "metadata": {
        "id": "w5jejNRStrHG"
      },
      "execution_count": null,
      "outputs": []
    },
    {
      "cell_type": "code",
      "source": [
        "# r=root, d=directories, f = files\n",
        "dest_dir = '/content/output'\n",
        "bvh_dir = '/content/input'\n",
        "\n",
        "# list all bvh files in the bvh_dir\n",
        "files = []\n",
        "for r, d, f in os.walk(bvh_dir):\n",
        "    for file in f:\n",
        "        print(file)\n",
        "        if '.bvh' in file:\n",
        "            ff=os.path.join(r, file)\n",
        "            basename = os.path.splitext(os.path.basename(ff))[0]\n",
        "            files.append(basename)\n",
        "\n",
        "# process to destpath\n",
        "out_data, data_all = extract_joint_angles(bvh_dir, files, dest_dir, fps=20)\n",
        "\n"
      ],
      "metadata": {
        "colab": {
          "base_uri": "https://localhost:8080/"
        },
        "id": "VfiiFyj_tuvI",
        "outputId": "906a1d60-a31d-4bcc-e304-8dfc49cc740c"
      },
      "execution_count": null,
      "outputs": [
        {
          "output_type": "stream",
          "name": "stdout",
          "text": [
            "val_2022_v1_000.bvh\n",
            "/content/input/val_2022_v1_000.bvh\n",
            "JointSelector\n",
            "MocapParameterizer: expmap\n",
            "Numpyfier\n",
            "/content/output/val_2022_v1_000\n"
          ]
        }
      ]
    },
    {
      "cell_type": "code",
      "source": [
        "out_data.shape"
      ],
      "metadata": {
        "colab": {
          "base_uri": "https://localhost:8080/"
        },
        "id": "g6DWmqlQpH1E",
        "outputId": "c1fd07a5-30fa-45f4-dc4b-09f4ed4793e8"
      },
      "execution_count": null,
      "outputs": [
        {
          "output_type": "execute_result",
          "data": {
            "text/plain": [
              "(1, 1890, 6)"
            ]
          },
          "metadata": {},
          "execution_count": 34
        }
      ]
    },
    {
      "cell_type": "code",
      "source": [],
      "metadata": {
        "id": "8tn7RrDlWfrL"
      },
      "execution_count": null,
      "outputs": []
    },
    {
      "cell_type": "markdown",
      "source": [
        "# Feature2Bvh"
      ],
      "metadata": {
        "id": "tDQln6rqu9TA"
      }
    },
    {
      "cell_type": "code",
      "source": [
        "import os\n",
        "import sys\n",
        "\n",
        "module_path = os.path.abspath(os.path.join('..'))\n",
        "if module_path not in sys.path:\n",
        "    sys.path.append(module_path)\n",
        "\n",
        "from pymo.parsers import BVHParser\n",
        "from pymo.data import Joint, MocapData\n",
        "from pymo.preprocessing import *\n",
        "from pymo.viz_tools import *\n",
        "from pymo.writers import *\n",
        "\n",
        "import joblib as jl\n",
        "\n",
        "# load data pipeline\n",
        "pipeline = jl.load('/content/output/data_pipe.sav')\n",
        "features = np.load(\"/content/output/val_2022_v1_000.npz\")['clips']\n",
        "print(features.shape)\n",
        "\n",
        "# transform the data back to it's original shape\n",
        "# note: in a real scenario this is usually done with predicted data\n",
        "# note: some transformations (such as transforming to joint positions) are not inversible\n",
        "bvh_data=pipeline.inverse_transform([features])\n",
        "\n",
        "# Test to write some of it to file for visualization in blender or motion builder\n",
        "writer = BVHWriter()\n",
        "with open('/content/output/converted.bvh','w') as f:\n",
        "    writer.write(bvh_data[0], f)"
      ],
      "metadata": {
        "id": "zANYitAVvAny"
      },
      "execution_count": null,
      "outputs": []
    },
    {
      "cell_type": "code",
      "source": [
        "!diff /content/output/converted.bvh /content/PyMO/demos/data/AV_8Walk_Meredith_HVHA_Rep1.bvh -y"
      ],
      "metadata": {
        "id": "woxsdmNjq9EZ"
      },
      "execution_count": null,
      "outputs": []
    }
  ]
}